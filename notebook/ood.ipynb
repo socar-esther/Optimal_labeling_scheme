{
 "cells": [
  {
   "cell_type": "code",
   "execution_count": 1,
   "id": "4cea2088-2336-4179-b883-bf3d8e56e0ab",
   "metadata": {},
   "outputs": [],
   "source": [
    "from __future__ import print_function\n",
    "\n",
    "import os\n",
    "import argparse\n",
    "import socket\n",
    "import time\n",
    "import sys\n",
    "\n",
    "import torch\n",
    "import torch.optim as optim\n",
    "import torch.nn as nn\n",
    "import torch.backends.cudnn as cudnn\n",
    "from torch.utils.data import DataLoader\n",
    "\n",
    "import torchvision\n",
    "from util import adjust_learning_rate, accuracy, AverageMeter\n",
    "from torchvision import transforms\n",
    "from torchvision.models import resnet50\n",
    "from sklearn.metrics import f1_score\n",
    "from sklearn.metrics import roc_auc_score\n",
    "\n",
    "import numpy as np\n",
    "import matplotlib.pyplot as plt\n",
    "import pandas as pd"
   ]
  },
  {
   "cell_type": "code",
   "execution_count": 2,
   "id": "7e6142fc-8580-4f8c-9ae1-5c74c5a2c0c2",
   "metadata": {},
   "outputs": [
    {
     "name": "stdout",
     "output_type": "stream",
     "text": [
      "1.8.1+cu111\n"
     ]
    }
   ],
   "source": [
    "print(torch.__version__)"
   ]
  },
  {
   "cell_type": "code",
   "execution_count": 3,
   "id": "4e754643-759c-4fe6-a043-8d159150687e",
   "metadata": {},
   "outputs": [],
   "source": [
    "parser = argparse.ArgumentParser('argument for training')\n",
    "\n",
    "parser.add_argument('--eval_freq', type=int, default=10, help='meta-eval frequency')\n",
    "parser.add_argument('--print_freq', type=int, default=100, help='print frequency')\n",
    "parser.add_argument('--tb_freq', type=int, default=500, help='tb frequency')\n",
    "parser.add_argument('--save_freq', type=int, default=10, help='save frequency')\n",
    "parser.add_argument('--batch_size', type=int, default=4, help='batch_size')\n",
    "parser.add_argument('--num_workers', type=int, default=8, help='num of workers to use')\n",
    "parser.add_argument('--epochs', type=int, default=200, help='number of training epochs')\n",
    "\n",
    "# optimization\n",
    "parser.add_argument('--learning_rate', type=float, default=0.0001, help='learning rate')\n",
    "parser.add_argument('--lr_decay_epochs', type=str, default='60,80', help='where to decay lr, can be a list')\n",
    "parser.add_argument('--lr_decay_rate', type=float, default=0.1, help='decay rate for learning rate')\n",
    "parser.add_argument('--weight_decay', type=float, default=5e-4, help='weight decay')\n",
    "parser.add_argument('--momentum', type=float, default=0.9, help='momentum')\n",
    "parser.add_argument('--adam', action='store_true', help='use adam optimizer')\n",
    "\n",
    "# dataset\n",
    "parser.add_argument('--model', type=str, default='resnet50')\n",
    "\n",
    "# cosine annealing\n",
    "parser.add_argument('--cosine', action='store_true', help='using cosine annealing')\n",
    "\n",
    "# specify folder\n",
    "parser.add_argument('--model_path', type=str, default='', help='path to save model')\n",
    "parser.add_argument('--tb_path', type=str, default='', help='path to tensorboard')\n",
    "parser.add_argument('--data_root', type=str, default='', help='path to data root')\n",
    "\n",
    "opt = parser.parse_args(args=[])"
   ]
  },
  {
   "cell_type": "code",
   "execution_count": 4,
   "id": "930e0c10-da2d-4c1d-bed1-e9ad3ea67e73",
   "metadata": {},
   "outputs": [],
   "source": [
    "iterations = opt.lr_decay_epochs.split(',')\n",
    "opt.lr_decay_epochs = list([])\n",
    "for it in iterations:\n",
    "    opt.lr_decay_epochs.append(int(it))\n",
    "\n",
    "opt.n_gpu = torch.cuda.device_count()"
   ]
  },
  {
   "cell_type": "code",
   "execution_count": 5,
   "id": "3fec8190-c524-4b40-91dc-c3c9d609b82a",
   "metadata": {},
   "outputs": [],
   "source": [
    "# get test datasets\n",
    "test_transforms_option = transforms.Compose([\n",
    "                    transforms.Resize((32, 32)),\n",
    "                    transforms.ToTensor(),\n",
    "                    transforms.Normalize([0.5071, 0.4867, 0.4408], [0.2675, 0.2565, 0.2761])\n",
    "                ])\n",
    "test_datasets = torchvision.datasets.ImageFolder(root=\"../../dataset/ours_style4_set/texture_svhn_ood_test\", transform = test_transforms_option)\n",
    "test_loader = torch.utils.data.DataLoader(test_datasets, batch_size = 256, shuffle=False, num_workers = 4)"
   ]
  },
  {
   "cell_type": "code",
   "execution_count": 6,
   "id": "8e46d256-16be-4f61-a4e9-4916de1868c2",
   "metadata": {},
   "outputs": [
    {
     "name": "stdout",
     "output_type": "stream",
     "text": [
      "We use resnet50\n"
     ]
    },
    {
     "data": {
      "text/plain": [
       "<All keys matched successfully>"
      ]
     },
     "execution_count": 6,
     "metadata": {},
     "output_type": "execute_result"
    }
   ],
   "source": [
    "# model\n",
    "opt.n_class = 2\n",
    "\n",
    "print(f'We use {opt.model}')\n",
    "model = resnet50(pretrained = False)\n",
    "num_ftrs = model.fc.in_features\n",
    "model.fc = nn.Linear(num_ftrs, opt.n_class)\n",
    "\n",
    "model.load_state_dict(torch.load('../checkpoint_0302/texture_style4_best.pth'))"
   ]
  },
  {
   "cell_type": "code",
   "execution_count": 7,
   "id": "9f863687-70b6-4c25-9ccc-c398bbc5ab2f",
   "metadata": {},
   "outputs": [
    {
     "name": "stdout",
     "output_type": "stream",
     "text": [
      "class 0 : airplane \n",
      "class 1 : airplane_style4 \n",
      "class 2 : automobile \n",
      "class 3 : automobile_style4 \n",
      "class 4 : bird \n",
      "class 5 : bird_style4 \n",
      "class 6 : cat \n",
      "class 7 : cat_style4 \n",
      "class 8 : deer \n",
      "class 9 : deer_style4 \n",
      "class 10 : dog \n",
      "class 11 : dog_style4 \n",
      "class 12 : frog \n",
      "class 13 : frog_style4 \n",
      "class 14 : horse \n",
      "class 15 : horse_style4 \n",
      "class 16 : ship \n",
      "class 17 : ship_style4 \n",
      "class 18 : svhn_test_output \n",
      "class 19 : truck \n",
      "class 20 : truck_style4 \n"
     ]
    }
   ],
   "source": [
    "for i in range(len(test_datasets.classes)) :\n",
    "    print(f'class {i} : {test_datasets.classes[i]} ')\n",
    "    \n",
    "# (원래 클래스의 갯수) + 1 개의 클래스가 나오는게 맞음"
   ]
  },
  {
   "cell_type": "code",
   "execution_count": 8,
   "id": "e9f1958e-1381-490a-be2e-75012ff5e0ab",
   "metadata": {},
   "outputs": [],
   "source": [
    "def test(val_loader, model, threshold):\n",
    "    ood_logit_list, iod_logit_list = list(), list()\n",
    "    model.eval()\n",
    "    \n",
    "    rejection_all_count = 0\n",
    "    rejection_correct_count = 0\n",
    "    \n",
    "    closed_all_count = 0\n",
    "    closed_correct_count = 0\n",
    "    \n",
    "    new_target = list()\n",
    "    all_prob = list()\n",
    "\n",
    "    with torch.no_grad():\n",
    "        for idx, (input, target) in enumerate(val_loader):\n",
    "\n",
    "            input = input.float()\n",
    "            if torch.cuda.is_available():\n",
    "                input = input.cuda()\n",
    "                target = target.cuda()\n",
    "\n",
    "            # compute output\n",
    "            output = model(input)\n",
    "            pred = output.argmax(dim=1) # .view(output.shape)\n",
    "            \n",
    "            tmp_prob_list = list()\n",
    "            for i in range(len(output)) :\n",
    "                prob = output[i][pred[i].item()]\n",
    "                tmp_prob_list.append(prob)\n",
    "            \n",
    "            for i in range(len(target)) :\n",
    "                all_prob.append(tmp_prob_list[i])\n",
    "                if target[i] == 18 :\n",
    "                    rejection_all_count += 1\n",
    "                    new_target.append(0)\n",
    "                    ood_logit_list.append(tmp_prob_list[i])\n",
    "\n",
    "                else :\n",
    "                    closed_all_count += 1\n",
    "                    new_target.append(1)\n",
    "                    iod_logit_list.append(tmp_prob_list[i])\n",
    "            \n",
    "            # Threshold로 Rejection하기\n",
    "            for i in range(len(tmp_prob_list)) :\n",
    "                if tmp_prob_list[i] < threshold :\n",
    "                    # reject\n",
    "                    # rejection set이 reject되는 갯수 카운드\n",
    "                    if target[i] == 18 :\n",
    "                        rejection_correct_count += 1\n",
    "                else :\n",
    "                    # not reject\n",
    "                    # closed set이 not reject되는 갯수 카운트\n",
    "                    if target[i] != 18 :\n",
    "                        closed_correct_count += 1\n",
    "                    \n",
    "            \n",
    "        # metric option1 계산\n",
    "        rejection_acc = rejection_correct_count/rejection_all_count\n",
    "        closed_acc = closed_correct_count/closed_all_count\n",
    "        \n",
    "        # metric option2 계산\n",
    "        auc = roc_auc_score(np.array(new_target), np.array(all_prob), multi_class='ovr') # (target, prob)\n",
    "            \n",
    "            \n",
    "    return ood_logit_list, iod_logit_list, rejection_acc, closed_acc, auc"
   ]
  },
  {
   "cell_type": "code",
   "execution_count": 9,
   "id": "275e7737-b788-46ff-8283-f66eaa7966a7",
   "metadata": {},
   "outputs": [],
   "source": [
    "model = model.cuda()"
   ]
  },
  {
   "cell_type": "code",
   "execution_count": 29,
   "id": "3f9d8f09-c32b-4631-9612-f2b8cbb8fa42",
   "metadata": {},
   "outputs": [],
   "source": [
    "def get_threshold(test_loader, model) :\n",
    "    \n",
    "    # get test dataset logit values\n",
    "    test_value_logits_list = list()\n",
    "    \n",
    "    with torch.no_grad():\n",
    "        for idx, (input, target) in enumerate(test_loader):\n",
    "\n",
    "            input = input.float()\n",
    "            if torch.cuda.is_available():\n",
    "                input = input.cuda()\n",
    "                target = target.cuda()\n",
    "\n",
    "            # compute output\n",
    "            output = model(input)\n",
    "            pred = output.argmax(dim=1) # .view(output.shape)\n",
    "            \n",
    "            for i in range(len(output)) :\n",
    "                prob = output[i][pred[i].item()].item()\n",
    "                test_value_logits_list.append(prob)\n",
    "            \n",
    "    \n",
    "    # compute threshold value\n",
    "    mean_threshold = sum(test_value_logits_list)/len(test_value_logits_list)\n",
    "    threshold_3q = np.percentile(np.array(test_value_logits_list), 75)\n",
    "    \n",
    "    return mean_threshold"
   ]
  },
  {
   "cell_type": "code",
   "execution_count": 30,
   "id": "b9d266c3-a0cd-41b5-a576-b4016e095302",
   "metadata": {},
   "outputs": [],
   "source": [
    "threshold = get_threshold(test_loader, model)"
   ]
  },
  {
   "cell_type": "code",
   "execution_count": 31,
   "id": "13646553-ffdb-422e-b072-b7ba21a1aa7b",
   "metadata": {},
   "outputs": [
    {
     "name": "stdout",
     "output_type": "stream",
     "text": [
      "4.73835656634283\n"
     ]
    }
   ],
   "source": [
    "print(threshold) ## check threshold"
   ]
  },
  {
   "cell_type": "code",
   "execution_count": 32,
   "id": "7afcba13-8dfa-4979-9188-a93eb03dae39",
   "metadata": {},
   "outputs": [
    {
     "name": "stdout",
     "output_type": "stream",
     "text": [
      "Rejection Acc :  0.49634202103337904\n",
      "Closed set Acc : 0.6367692307692308\n",
      "AUROC :  0.6111319451772126\n"
     ]
    }
   ],
   "source": [
    "ood_logit_list, iod_logit_list, rejection_acc, closed_acc, auc = test(test_loader, model, threshold)\n",
    "\n",
    "print('Rejection Acc : ', rejection_acc)\n",
    "print('Closed set Acc :', closed_acc)\n",
    "print('AUROC : ', auc)"
   ]
  },
  {
   "cell_type": "code",
   "execution_count": 110,
   "id": "57109622-4bb2-4cd2-bcf2-70d9e20e50fb",
   "metadata": {},
   "outputs": [],
   "source": [
    "for i in range(len(ood_logit_list)) :\n",
    "    ood_logit_list[i] = ood_logit_list[i].item()\n",
    "\n",
    "for i in range(len(iod_logit_list)) :\n",
    "    iod_logit_list[i] = iod_logit_list[i].item()"
   ]
  },
  {
   "cell_type": "code",
   "execution_count": 111,
   "id": "4242fb2e-0238-4238-9ced-fe23693304c2",
   "metadata": {},
   "outputs": [
    {
     "data": {
      "image/png": "[encoded data removed]",
      "text/plain": [
       "<Figure size 720x576 with 1 Axes>"
      ]
     },
     "metadata": {
      "needs_background": "light"
     },
     "output_type": "display_data"
    }
   ],
   "source": [
    "# prob 기준으로 hist 그려보기\n",
    "\n",
    "params = {'legend.fontsize': 15}\n",
    "plt.rcParams.update(params)\n",
    "\n",
    "\n",
    "hist_df = pd.DataFrame({\n",
    "    'ood_prob': ood_logit_list\n",
    "})\n",
    "\n",
    "plt.figure(figsize=(10,8))\n",
    "plt.hist(hist_df['ood_prob'], label = 'SVHN + Stylized SVHN Test Set', alpha = 0.6) # , color='forestgreen'\n",
    "plt.xlabel('Logit (before softmax)', fontsize=20, labelpad=15)\n",
    "plt.xticks(fontsize=20)\n",
    "plt.ylabel('Number of Data', fontsize=20, labelpad=5)\n",
    "plt.yticks(fontsize=20)\n",
    "\n",
    "\n",
    "# 3; open set \n",
    "hist_df = pd.DataFrame({\n",
    "    'iod_prob':iod_logit_list,\n",
    "})\n",
    "\n",
    "plt.hist(hist_df['iod_prob'], label = 'CIFAR 10 + Stylized CIFAR 10 Test Set', alpha = 0.6)\n",
    "\n",
    "\n",
    "plt.legend(loc='best')\n",
    "plt.show()"
   ]
  },
  {
   "cell_type": "code",
   "execution_count": null,
   "id": "2de48648-c7c3-4ef4-b68a-e7fca7cec6cb",
   "metadata": {},
   "outputs": [],
   "source": []
  },
  {
   "cell_type": "code",
   "execution_count": null,
   "id": "064bbf0a-e620-4f5f-ab29-a3764666fb46",
   "metadata": {},
   "outputs": [],
   "source": []
  },
  {
   "cell_type": "code",
   "execution_count": null,
   "id": "75b26ca5-fc62-4663-adc8-8a376bfb3898",
   "metadata": {},
   "outputs": [],
   "source": []
  }
 ],
 "metadata": {
  "kernelspec": {
   "display_name": "Python 3 (ipykernel)",
   "language": "python",
   "name": "python3"
  },
  "language_info": {
   "codemirror_mode": {
    "name": "ipython",
    "version": 3
   },
   "file_extension": ".py",
   "mimetype": "text/x-python",
   "name": "python",
   "nbconvert_exporter": "python",
   "pygments_lexer": "ipython3",
   "version": "3.8.7"
  }
 },
 "nbformat": 4,
 "nbformat_minor": 5
}
